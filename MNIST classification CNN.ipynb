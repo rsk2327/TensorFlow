{
 "cells": [
  {
   "cell_type": "code",
   "execution_count": 49,
   "metadata": {
    "collapsed": true
   },
   "outputs": [],
   "source": [
    "import keras\n",
    "from keras.models import Sequential\n",
    "from keras.layers import Dense, Convolution2D, MaxPooling2D, Dropout, Flatten\n",
    "from keras.utils import np_utils\n",
    "import pandas as pd\n",
    "import numpy as np\n",
    "from keras.datasets import mnist\n"
   ]
  },
  {
   "cell_type": "code",
   "execution_count": 30,
   "metadata": {},
   "outputs": [],
   "source": [
    "train = pd.read_csv(\"/home/roshan/Documents/TensorFlow/MNIST/train.csv\")\n",
    "trainLabel = train['label']\n",
    "trainData = train[[col for col in train.columns if col != 'label']]\n",
    "\n"
   ]
  },
  {
   "cell_type": "code",
   "execution_count": 51,
   "metadata": {},
   "outputs": [
    {
     "name": "stdout",
     "output_type": "stream",
     "text": [
      "Downloading data from https://s3.amazonaws.com/img-datasets/mnist.npz\n",
      "11460608/11490434 [============================>.] - ETA: 0s"
     ]
    }
   ],
   "source": [
    "(trainData,trainLabel),(testData,testLabel) = mnist.load_data()"
   ]
  },
  {
   "cell_type": "code",
   "execution_count": 52,
   "metadata": {
    "collapsed": true
   },
   "outputs": [],
   "source": [
    "trainData1,trainLabel1 = trainData,trainLabel"
   ]
  },
  {
   "cell_type": "code",
   "execution_count": 63,
   "metadata": {
    "collapsed": true
   },
   "outputs": [],
   "source": [
    "#trainData,trainLabel = trainData1,trainLabel1"
   ]
  },
  {
   "cell_type": "code",
   "execution_count": 64,
   "metadata": {},
   "outputs": [
    {
     "data": {
      "text/plain": [
       "(60000, 28, 28, 1)"
      ]
     },
     "execution_count": 64,
     "metadata": {},
     "output_type": "execute_result"
    }
   ],
   "source": [
    "trainData = trainData.reshape([trainData.shape[0],28,28,1])\n",
    "testData = testData.reshape([testData.shape[0],28,28,1])\n",
    "trainData = trainData.astype('float32')\n",
    "testData = testData.astype('float32')\n",
    "trainData /= 255\n",
    "testData /= 255\n",
    "trainLabel.shape\n",
    "trainData.shape"
   ]
  },
  {
   "cell_type": "code",
   "execution_count": 62,
   "metadata": {},
   "outputs": [
    {
     "name": "stdout",
     "output_type": "stream",
     "text": [
      "[0 0 0 0 0 0 0]\n"
     ]
    }
   ],
   "source": [
    "a=np.array([1,2,4,5,6,7,8])\n",
    "a = a/255\n",
    "print(a)"
   ]
  },
  {
   "cell_type": "code",
   "execution_count": 65,
   "metadata": {
    "collapsed": true
   },
   "outputs": [],
   "source": [
    "trainLabel = np_utils.to_categorical(trainLabel)\n",
    "testLabel = np_utils.to_categorical(testLabel)"
   ]
  },
  {
   "cell_type": "code",
   "execution_count": 69,
   "metadata": {
    "collapsed": true
   },
   "outputs": [],
   "source": [
    "input_shape=(28,28,1)\n",
    "batch_size = 128\n",
    "num_classes=10\n",
    "epochs=12"
   ]
  },
  {
   "cell_type": "code",
   "execution_count": 74,
   "metadata": {},
   "outputs": [],
   "source": [
    "model = Sequential()\n",
    "model.add( Conv2D(64,(4,4),activation='sigmoid', input_shape= (28,28,1)))\n",
    "model.add( MaxPooling2D(pool_size=(2,2)))\n",
    "model.add(Dropout(0.2))\n",
    "model.add( Conv2D(32,(3,3),activation='sigmoid'))\n",
    "model.add(MaxPooling2D(pool_size=(2,2)))\n",
    "model.add(Dropout(0.2))\n",
    "model.add(Flatten())\n",
    "model.add(Dense(128, activation='sigmoid'))\n",
    "model.add(Dropout(0.2))\n",
    "model.add(Dense(64, activation='sigmoid'))\n",
    "model.add(Dense(10, activation='softmax'))"
   ]
  },
  {
   "cell_type": "code",
   "execution_count": 75,
   "metadata": {
    "collapsed": true
   },
   "outputs": [],
   "source": [
    "model.compile(loss=keras.losses.categorical_crossentropy,\n",
    "             optimizer = keras.optimizers.Adadelta(),\n",
    "             metrics=['accuracy'])"
   ]
  },
  {
   "cell_type": "code",
   "execution_count": 76,
   "metadata": {},
   "outputs": [
    {
     "name": "stdout",
     "output_type": "stream",
     "text": [
      "Train on 60000 samples, validate on 10000 samples\n",
      "Epoch 1/12\n",
      "60000/60000 [==============================] - 15s - loss: 2.3060 - acc: 0.1096 - val_loss: 2.2980 - val_acc: 0.1028\n",
      "Epoch 2/12\n",
      "60000/60000 [==============================] - 18s - loss: 1.7739 - acc: 0.4413 - val_loss: 0.8936 - val_acc: 0.7818\n",
      "Epoch 3/12\n",
      "60000/60000 [==============================] - 52s - loss: 0.7023 - acc: 0.8118 - val_loss: 0.4579 - val_acc: 0.8751\n",
      "Epoch 4/12\n",
      "60000/60000 [==============================] - 27s - loss: 0.4456 - acc: 0.8728 - val_loss: 0.3027 - val_acc: 0.9141\n",
      "Epoch 5/12\n",
      "60000/60000 [==============================] - 39s - loss: 0.3287 - acc: 0.9037 - val_loss: 0.2254 - val_acc: 0.9354\n",
      "Epoch 6/12\n",
      "60000/60000 [==============================] - 63s - loss: 0.2624 - acc: 0.9216 - val_loss: 0.1744 - val_acc: 0.9474\n",
      "Epoch 7/12\n",
      "60000/60000 [==============================] - 30s - loss: 0.2173 - acc: 0.9351 - val_loss: 0.1436 - val_acc: 0.9571\n",
      "Epoch 8/12\n",
      "60000/60000 [==============================] - 33s - loss: 0.1887 - acc: 0.9425 - val_loss: 0.1254 - val_acc: 0.9599\n",
      "Epoch 9/12\n",
      "60000/60000 [==============================] - 36s - loss: 0.1656 - acc: 0.9494 - val_loss: 0.1075 - val_acc: 0.9652\n",
      "Epoch 10/12\n",
      "60000/60000 [==============================] - 28s - loss: 0.1506 - acc: 0.9541 - val_loss: 0.0957 - val_acc: 0.9703\n",
      "Epoch 11/12\n",
      "60000/60000 [==============================] - 45s - loss: 0.1386 - acc: 0.9580 - val_loss: 0.0894 - val_acc: 0.9707\n",
      "Epoch 12/12\n",
      "60000/60000 [==============================] - 58s - loss: 0.1284 - acc: 0.9603 - val_loss: 0.0855 - val_acc: 0.9730\n"
     ]
    },
    {
     "data": {
      "text/plain": [
       "<keras.callbacks.History at 0x7f0846807e50>"
      ]
     },
     "execution_count": 76,
     "metadata": {},
     "output_type": "execute_result"
    }
   ],
   "source": [
    "model.fit(trainData, trainLabel,\n",
    "          batch_size=batch_size,\n",
    "          epochs=epochs,\n",
    "          verbose=1,\n",
    "          validation_data=(testData, testLabel))"
   ]
  },
  {
   "cell_type": "code",
   "execution_count": null,
   "metadata": {
    "collapsed": true
   },
   "outputs": [],
   "source": []
  }
 ],
 "metadata": {
  "kernelspec": {
   "display_name": "Python 2",
   "language": "python",
   "name": "python2"
  },
  "language_info": {
   "codemirror_mode": {
    "name": "ipython",
    "version": 2
   },
   "file_extension": ".py",
   "mimetype": "text/x-python",
   "name": "python",
   "nbconvert_exporter": "python",
   "pygments_lexer": "ipython2",
   "version": "2.7.12"
  }
 },
 "nbformat": 4,
 "nbformat_minor": 2
}
